{
 "cells": [
  {
   "cell_type": "code",
   "execution_count": 1,
   "metadata": {},
   "outputs": [
    {
     "name": "stdout",
     "output_type": "stream",
     "text": [
      "Requirement already satisfied: insurance-predictor in /Library/Frameworks/Python.framework/Versions/3.11/lib/python3.11/site-packages (0.1)\n",
      "Requirement already satisfied: xgboost>=1.0.0 in /Library/Frameworks/Python.framework/Versions/3.11/lib/python3.11/site-packages (from insurance-predictor) (2.0.3)\n",
      "Requirement already satisfied: pandas in /Library/Frameworks/Python.framework/Versions/3.11/lib/python3.11/site-packages (from insurance-predictor) (2.1.1)\n",
      "Requirement already satisfied: numpy in /Library/Frameworks/Python.framework/Versions/3.11/lib/python3.11/site-packages (from xgboost>=1.0.0->insurance-predictor) (1.26.1)\n",
      "Requirement already satisfied: scipy in /Library/Frameworks/Python.framework/Versions/3.11/lib/python3.11/site-packages (from xgboost>=1.0.0->insurance-predictor) (1.11.3)\n",
      "Requirement already satisfied: python-dateutil>=2.8.2 in /Users/abdelrahmanalomari/Library/Python/3.11/lib/python/site-packages (from pandas->insurance-predictor) (2.8.2)\n",
      "Requirement already satisfied: pytz>=2020.1 in /Library/Frameworks/Python.framework/Versions/3.11/lib/python3.11/site-packages (from pandas->insurance-predictor) (2023.3.post1)\n",
      "Requirement already satisfied: tzdata>=2022.1 in /Library/Frameworks/Python.framework/Versions/3.11/lib/python3.11/site-packages (from pandas->insurance-predictor) (2023.3)\n",
      "Requirement already satisfied: six>=1.5 in /Users/abdelrahmanalomari/Library/Python/3.11/lib/python/site-packages (from python-dateutil>=2.8.2->pandas->insurance-predictor) (1.16.0)\n",
      "\n",
      "\u001b[1m[\u001b[0m\u001b[34;49mnotice\u001b[0m\u001b[1;39;49m]\u001b[0m\u001b[39;49m A new release of pip available: \u001b[0m\u001b[31;49m22.3\u001b[0m\u001b[39;49m -> \u001b[0m\u001b[32;49m24.0\u001b[0m\n",
      "\u001b[1m[\u001b[0m\u001b[34;49mnotice\u001b[0m\u001b[1;39;49m]\u001b[0m\u001b[39;49m To update, run: \u001b[0m\u001b[32;49mpip3 install --upgrade pip\u001b[0m\n",
      "Note: you may need to restart the kernel to use updated packages.\n"
     ]
    }
   ],
   "source": [
    "pip install insurance-predictor"
   ]
  },
  {
   "cell_type": "code",
   "execution_count": 2,
   "metadata": {},
   "outputs": [],
   "source": [
    "from insurance_predictor import InsurancePredictor\n"
   ]
  },
  {
   "cell_type": "code",
   "execution_count": 3,
   "metadata": {},
   "outputs": [],
   "source": [
    "predictor = InsurancePredictor()"
   ]
  },
  {
   "cell_type": "code",
   "execution_count": null,
   "metadata": {},
   "outputs": [],
   "source": [
    "import pandas as pd\n",
    "# Sample data\n",
    "data = {\n",
    "    'Id': [1],\n",
    "    'Age': [45],\n",
    "    'Default': [0],\n",
    "    'Balance': [1200],\n",
    "    'HHInsurance': [1],\n",
    "    'CarLoan': [0],\n",
    "    'LastContactDay': [15],\n",
    "    'NoOfContacts': [2],\n",
    "    'DaysPassed': [-1],\n",
    "    'PrevAttempts': [0],\n",
    "    'CallDuration': [180],\n",
    "    'Job_admin.': [0],\n",
    "    'Job_blue-collar': [1],\n",
    "    'Job_entrepreneur': [0],\n",
    "    'Job_housemaid': [0],\n",
    "    'Job_management': [0],\n",
    "    'Job_retired': [0],\n",
    "    'Job_self-employed': [0],\n",
    "    'Job_services': [0],\n",
    "    'Job_student': [0],\n",
    "    'Job_technician': [0],\n",
    "    'Job_unemployed': [0],\n",
    "    'Marital_divorced': [0],\n",
    "    'Marital_married': [1],\n",
    "    'Marital_single': [0],\n",
    "    'Education_primary': [0],\n",
    "    'Education_secondary': [1],\n",
    "    'Education_tertiary': [0],\n",
    "    'Communication_cellular': [1],\n",
    "    'Communication_telephone': [0],\n",
    "    'Communication_unknown': [0],\n",
    "    'LastContactMonth_apr': [0],\n",
    "    'LastContactMonth_aug': [0],\n",
    "    'LastContactMonth_dec': [0],\n",
    "    'LastContactMonth_feb': [0],\n",
    "    'LastContactMonth_jan': [0],\n",
    "    'LastContactMonth_jul': [1],\n",
    "    'LastContactMonth_jun': [0],\n",
    "    'LastContactMonth_mar': [0],\n",
    "    'LastContactMonth_may': [0],\n",
    "    'LastContactMonth_nov': [0],\n",
    "    'LastContactMonth_oct': [0],\n",
    "    'LastContactMonth_sep': [0],\n",
    "    'Outcome_failure': [0],\n",
    "    'Outcome_no_previous_contact': [1],\n",
    "    'Outcome_other': [0],\n",
    "    'Outcome_success': [0]\n",
    "}\n",
    "\n",
    "# Create a DataFrame\n",
    "df_sample = pd.DataFrame(data)"
   ]
  },
  {
   "cell_type": "code",
   "execution_count": 6,
   "metadata": {},
   "outputs": [
    {
     "name": "stdout",
     "output_type": "stream",
     "text": [
      "[0]\n"
     ]
    }
   ],
   "source": [
    "predictions = predictor.predict(df_sample)\n",
    "\n",
    "print(predictions)"
   ]
  }
 ],
 "metadata": {
  "kernelspec": {
   "display_name": "Python 3",
   "language": "python",
   "name": "python3"
  },
  "language_info": {
   "codemirror_mode": {
    "name": "ipython",
    "version": 3
   },
   "file_extension": ".py",
   "mimetype": "text/x-python",
   "name": "python",
   "nbconvert_exporter": "python",
   "pygments_lexer": "ipython3",
   "version": "3.11.0"
  }
 },
 "nbformat": 4,
 "nbformat_minor": 2
}
